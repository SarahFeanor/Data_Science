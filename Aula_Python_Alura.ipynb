{
  "nbformat": 4,
  "nbformat_minor": 0,
  "metadata": {
    "colab": {
      "provenance": [],
      "authorship_tag": "ABX9TyPLJTPdBVHdE/dtoc+m85Dy",
      "include_colab_link": true
    },
    "kernelspec": {
      "name": "python3",
      "display_name": "Python 3"
    },
    "language_info": {
      "name": "python"
    }
  },
  "cells": [
    {
      "cell_type": "markdown",
      "metadata": {
        "id": "view-in-github",
        "colab_type": "text"
      },
      "source": [
        "<a href=\"https://colab.research.google.com/github/SarahFeanor/Data_Science/blob/main/Aula_Python_Alura.ipynb\" target=\"_parent\"><img src=\"https://colab.research.google.com/assets/colab-badge.svg\" alt=\"Open In Colab\"/></a>"
      ]
    },
    {
      "cell_type": "markdown",
      "source": [
        "# **LÓGICA DA PROGRAMAÇÃO** ⚡"
      ],
      "metadata": {
        "id": "MTA-v7ZSSriP"
      }
    },
    {
      "cell_type": "code",
      "source": [
        "1+1"
      ],
      "metadata": {
        "colab": {
          "base_uri": "https://localhost:8080/"
        },
        "id": "SniW2CKNS9OQ",
        "outputId": "f16f0d09-a0a6-43c8-9d77-43805c86e4d6"
      },
      "execution_count": null,
      "outputs": [
        {
          "output_type": "execute_result",
          "data": {
            "text/plain": [
              "2"
            ]
          },
          "metadata": {},
          "execution_count": 1
        }
      ]
    },
    {
      "cell_type": "code",
      "source": [
        "\"Sarah\""
      ],
      "metadata": {
        "colab": {
          "base_uri": "https://localhost:8080/",
          "height": 35
        },
        "id": "klQUr3DRTGcd",
        "outputId": "5e8ac595-89d0-4060-c4fb-28405d1181a7"
      },
      "execution_count": null,
      "outputs": [
        {
          "output_type": "execute_result",
          "data": {
            "text/plain": [
              "'Sarah'"
            ],
            "application/vnd.google.colaboratory.intrinsic+json": {
              "type": "string"
            }
          },
          "metadata": {},
          "execution_count": 2
        }
      ]
    },
    {
      "cell_type": "code",
      "source": [
        "'Sarah'"
      ],
      "metadata": {
        "colab": {
          "base_uri": "https://localhost:8080/",
          "height": 35
        },
        "id": "dWvneixKTMRO",
        "outputId": "2aae9e6f-19c6-472b-d409-2740942ff33c"
      },
      "execution_count": null,
      "outputs": [
        {
          "output_type": "execute_result",
          "data": {
            "text/plain": [
              "'Sarah'"
            ],
            "application/vnd.google.colaboratory.intrinsic+json": {
              "type": "string"
            }
          },
          "metadata": {},
          "execution_count": 3
        }
      ]
    },
    {
      "cell_type": "code",
      "source": [
        "nome = 'Sarah'"
      ],
      "metadata": {
        "id": "dH17fBWATUUO"
      },
      "execution_count": null,
      "outputs": []
    },
    {
      "cell_type": "code",
      "source": [
        "nome"
      ],
      "metadata": {
        "colab": {
          "base_uri": "https://localhost:8080/",
          "height": 35
        },
        "id": "UnXkbfSPTZXH",
        "outputId": "a9a9b5d6-f674-4133-ea3d-7052064f44f4"
      },
      "execution_count": null,
      "outputs": [
        {
          "output_type": "execute_result",
          "data": {
            "text/plain": [
              "'Sarah'"
            ],
            "application/vnd.google.colaboratory.intrinsic+json": {
              "type": "string"
            }
          },
          "metadata": {},
          "execution_count": 5
        }
      ]
    },
    {
      "cell_type": "code",
      "source": [
        "idade = 27"
      ],
      "metadata": {
        "id": "1Y7gTOmcTbrG"
      },
      "execution_count": null,
      "outputs": []
    },
    {
      "cell_type": "code",
      "source": [
        "idade "
      ],
      "metadata": {
        "colab": {
          "base_uri": "https://localhost:8080/"
        },
        "id": "HTz_OxacTh9h",
        "outputId": "6f80acde-3ea8-4d6f-f373-ccbee5eae673"
      },
      "execution_count": null,
      "outputs": [
        {
          "output_type": "execute_result",
          "data": {
            "text/plain": [
              "27"
            ]
          },
          "metadata": {},
          "execution_count": 7
        }
      ]
    },
    {
      "cell_type": "code",
      "source": [
        "print(f'Meu é  {nome} e tenho  {idade}  anos')"
      ],
      "metadata": {
        "colab": {
          "base_uri": "https://localhost:8080/"
        },
        "id": "65-9xtJNTnEw",
        "outputId": "c43b230b-31b6-4484-e4e4-7aac8a86cc3e"
      },
      "execution_count": null,
      "outputs": [
        {
          "output_type": "stream",
          "name": "stdout",
          "text": [
            "Meu é  Sarah e tenho  27  anos\n"
          ]
        }
      ]
    },
    {
      "cell_type": "markdown",
      "source": [
        "# **Criando minha primeira função** ⚡"
      ],
      "metadata": {
        "id": "3jcb_8KZV87m"
      }
    },
    {
      "cell_type": "code",
      "source": [
        "def saudacao():\n",
        "  nome = input ('Qual o seu nome? ')\n",
        "  print(f'Olá {nome}')"
      ],
      "metadata": {
        "id": "yCnWYAXOWFqe"
      },
      "execution_count": null,
      "outputs": []
    },
    {
      "cell_type": "code",
      "source": [
        "saudacao()"
      ],
      "metadata": {
        "colab": {
          "base_uri": "https://localhost:8080/"
        },
        "id": "P5VfwsNlWlxe",
        "outputId": "9efc5dfb-26db-407e-8282-b8aad18bdbd0"
      },
      "execution_count": null,
      "outputs": [
        {
          "output_type": "stream",
          "name": "stdout",
          "text": [
            "Qual o seu nome? Sarah\n",
            "Olá Sarah\n"
          ]
        }
      ]
    },
    {
      "cell_type": "markdown",
      "source": [],
      "metadata": {
        "id": "olq-iHENfAXU"
      }
    },
    {
      "cell_type": "code",
      "source": [
        "def nome_completo():\n",
        " primeiro_nome = input('Qual seu primeiro nome? ')\n",
        " sobrenome = input('Qual seu sobrenome? ')\n",
        " nome_inteiro = primeiro_nome + ' ' + sobrenome\n",
        " print(nome_inteiro)\n",
        "\n"
      ],
      "metadata": {
        "id": "u7qiFWlVcLu2"
      },
      "execution_count": null,
      "outputs": []
    },
    {
      "cell_type": "code",
      "source": [
        "nome_completo()\n",
        "\n"
      ],
      "metadata": {
        "colab": {
          "base_uri": "https://localhost:8080/"
        },
        "id": "liL-R7accQXS",
        "outputId": "290d59a2-ce86-43d0-cfd5-2e7b7293e277"
      },
      "execution_count": null,
      "outputs": [
        {
          "output_type": "stream",
          "name": "stdout",
          "text": [
            "Qual seu primeiro nome? Sarah\n",
            "Qual seu sobrenome? Faria\n",
            "Sarah Faria\n"
          ]
        }
      ]
    },
    {
      "cell_type": "code",
      "source": [
        "def hobbies():\n",
        "  nome = input('Qual seu nome? ')\n",
        "  idade = input('Qual sua idade?')\n",
        "  cidade = input('Qual o nome da sua cidade? ')\n",
        "  anime = input('Qual seu anime preferido? ')\n",
        "  hobbie = input('Qual é o seu hobbie? ')\n",
        "  historia = nome + ' mora em ' + cidade + ' e tem ' + idade + ' de idade, seu anime preferido é '+ anime + ' e o que mais gosta de fazer é ' + hobbie+ '. '\n",
        "  print(historia)\n",
        "\n",
        "\n"
      ],
      "metadata": {
        "id": "ynOpi_vyzXX8"
      },
      "execution_count": null,
      "outputs": []
    },
    {
      "cell_type": "code",
      "source": [
        "hobbies()\n"
      ],
      "metadata": {
        "colab": {
          "base_uri": "https://localhost:8080/"
        },
        "id": "Cn_xbKmDvkDg",
        "outputId": "9c9aae65-f448-429f-e23f-04622dec6a88"
      },
      "execution_count": null,
      "outputs": [
        {
          "output_type": "stream",
          "name": "stdout",
          "text": [
            "Qual seu nome? Vitor\n",
            "Qual sua idade?15\n",
            "Qual o nome da sua cidade? RJ\n",
            "Qual seu anime preferido? Naruto\n",
            "Qual é o seu hobbie? Nadar\n",
            "Vitor mora em RJ e tem 15 de idade, seu anime preferido é Naruto e o que mais gosta de fazer é Nadar. \n"
          ]
        }
      ]
    },
    {
      "cell_type": "markdown",
      "source": [],
      "metadata": {
        "id": "s4_STXoA0EVc"
      }
    },
    {
      "cell_type": "markdown",
      "source": [
        "# **Saudação com parametros** ⚡"
      ],
      "metadata": {
        "id": "ge_bhiDy0Jv-"
      }
    },
    {
      "cell_type": "code",
      "source": [
        "nome = 'Julia'"
      ],
      "metadata": {
        "id": "gyIk9dRx0Xp2"
      },
      "execution_count": null,
      "outputs": []
    },
    {
      "cell_type": "code",
      "source": [
        "def saudacao_com_parametro(nome_da_pessoa):\n",
        "  print(f'Olá {nome_da_pessoa}')"
      ],
      "metadata": {
        "id": "yhp74j1o0dng"
      },
      "execution_count": null,
      "outputs": []
    },
    {
      "cell_type": "code",
      "source": [
        "saudacao_com_parametro(nome)"
      ],
      "metadata": {
        "colab": {
          "base_uri": "https://localhost:8080/"
        },
        "id": "_hko_MTE0yw-",
        "outputId": "6eec0365-f91c-48b7-aee5-84d791036134"
      },
      "execution_count": null,
      "outputs": [
        {
          "output_type": "stream",
          "name": "stdout",
          "text": [
            "Olá Julia\n"
          ]
        }
      ]
    },
    {
      "cell_type": "markdown",
      "source": [
        "# **Condicional** ⚡"
      ],
      "metadata": {
        "id": "HCIJFaSI23Uz"
      }
    },
    {
      "cell_type": "code",
      "source": [
        "idade = 15\n",
        "\n",
        "def verifica_se_pode_dirigir(idade):\n",
        "  if idade >= 18:\n",
        "    print('Tem permissão para dirigir')\n",
        "  else:\n",
        "    print('Não tem autorização para dirigir')\n"
      ],
      "metadata": {
        "id": "MiHoE2w-3RL4"
      },
      "execution_count": null,
      "outputs": []
    },
    {
      "cell_type": "code",
      "source": [
        "verifica_se_pode_dirigir(idade)"
      ],
      "metadata": {
        "colab": {
          "base_uri": "https://localhost:8080/"
        },
        "id": "pdjhuTrb-lwQ",
        "outputId": "f0c6a8ee-4ce2-407e-bf4e-0ee42f293836"
      },
      "execution_count": null,
      "outputs": [
        {
          "output_type": "stream",
          "name": "stdout",
          "text": [
            "Não tem autorização para dirigir\n"
          ]
        }
      ]
    },
    {
      "cell_type": "code",
      "source": [
        "def verifica_se_pode_dirigir_sem_parametro():\n",
        "    idade = input('Qual sua idade')\n",
        "    idade = int(idade)\n",
        "    if idade >= 18:\n",
        "        print('Tem permissão para dirigir')\n",
        "    else:\n",
        "        print('Não tem permissão para dirigir')\n",
        "\n",
        "\n",
        "verifica_se_pode_dirigir_sem_parametro()"
      ],
      "metadata": {
        "id": "r7MJoLflGWZu"
      },
      "execution_count": null,
      "outputs": []
    },
    {
      "cell_type": "markdown",
      "source": [
        "## Indo até a padaria\n",
        "\n",
        "Uma pessoa vai até a padaria todos os dias. A distância de sua casa até o estabelecimento é de 100 metros e todo percurso é feito em 20 segundos.\n",
        "\n",
        "Para calcular a velocidade média e descobrir a razão do espaço pelo tempo, podemos dividir o espaço percorrido pelo tempo.\n",
        "\n",
        "Sabendo disso, a pessoa deseja criar uma função chamada velocidade, que recebe 2 parâmetros chamados espaco e tempo, realizar o cálculo e exibir uma saída.\n"
      ],
      "metadata": {
        "id": "6hacncyOBZeh"
      }
    },
    {
      "cell_type": "code",
      "source": [
        "def velocidade(espaco, tempo):\n",
        " v = espaco / tempo\n",
        " print(f'Velocidade: {v} m/s')\n",
        "\n",
        "velocidade(100, 20)\n"
      ],
      "metadata": {
        "colab": {
          "base_uri": "https://localhost:8080/"
        },
        "id": "9IQrcW-wBYdH",
        "outputId": "5d500200-f48c-4727-b134-dc0478a56f71"
      },
      "execution_count": null,
      "outputs": [
        {
          "output_type": "stream",
          "name": "stdout",
          "text": [
            "Velocidade: 5.0 m/s\n"
          ]
        }
      ]
    },
    {
      "cell_type": "markdown",
      "source": [
        "## **Criando uma lista** ⚡\n"
      ],
      "metadata": {
        "id": "blqmUyeJEO0N"
      }
    },
    {
      "cell_type": "code",
      "source": [
        "idade = 22\n",
        "idade"
      ],
      "metadata": {
        "colab": {
          "base_uri": "https://localhost:8080/"
        },
        "id": "xZCZitfMETYN",
        "outputId": "743b78b9-0f50-453f-8f52-e052a8096899"
      },
      "execution_count": null,
      "outputs": [
        {
          "output_type": "execute_result",
          "data": {
            "text/plain": [
              "22"
            ]
          },
          "metadata": {},
          "execution_count": 2
        }
      ]
    },
    {
      "cell_type": "code",
      "source": [
        "type(idade)"
      ],
      "metadata": {
        "colab": {
          "base_uri": "https://localhost:8080/"
        },
        "id": "O_9iniq6EePx",
        "outputId": "9a25c91e-1bac-456d-ca92-dd2bef9c5dcd"
      },
      "execution_count": null,
      "outputs": [
        {
          "output_type": "execute_result",
          "data": {
            "text/plain": [
              "int"
            ]
          },
          "metadata": {},
          "execution_count": 3
        }
      ]
    },
    {
      "cell_type": "code",
      "source": [
        "nome = \"Guilherme\"\n",
        "type(nome)"
      ],
      "metadata": {
        "colab": {
          "base_uri": "https://localhost:8080/"
        },
        "id": "HfRPR4uFEl21",
        "outputId": "d836abcf-449c-4a7b-f19f-4efdfb1a53ef"
      },
      "execution_count": null,
      "outputs": [
        {
          "output_type": "execute_result",
          "data": {
            "text/plain": [
              "str"
            ]
          },
          "metadata": {},
          "execution_count": 4
        }
      ]
    },
    {
      "cell_type": "code",
      "source": [
        "idades = [18, 22, 15, 50]\n",
        "#          0  1   2   3\n",
        "#          0  -3 -2  -1\n",
        "type(idades)"
      ],
      "metadata": {
        "colab": {
          "base_uri": "https://localhost:8080/"
        },
        "id": "6xTp3FvFExs_",
        "outputId": "5e678106-820a-4576-fe57-e0009a43493a"
      },
      "execution_count": 5,
      "outputs": [
        {
          "output_type": "execute_result",
          "data": {
            "text/plain": [
              "list"
            ]
          },
          "metadata": {},
          "execution_count": 5
        }
      ]
    },
    {
      "cell_type": "code",
      "source": [
        "idades [0:3]"
      ],
      "metadata": {
        "colab": {
          "base_uri": "https://localhost:8080/"
        },
        "id": "WB6GvWuDFNo1",
        "outputId": "7c5e3cee-7d14-4a96-b3b9-8d93eaf43c6c"
      },
      "execution_count": null,
      "outputs": [
        {
          "output_type": "execute_result",
          "data": {
            "text/plain": [
              "[18, 22, 15]"
            ]
          },
          "metadata": {},
          "execution_count": 6
        }
      ]
    },
    {
      "cell_type": "code",
      "source": [
        "idades[:2]"
      ],
      "metadata": {
        "colab": {
          "base_uri": "https://localhost:8080/"
        },
        "id": "bwj-qeUBFaLO",
        "outputId": "061f2d42-71cc-44c7-91ef-a07e2440f605"
      },
      "execution_count": null,
      "outputs": [
        {
          "output_type": "execute_result",
          "data": {
            "text/plain": [
              "[18, 22]"
            ]
          },
          "metadata": {},
          "execution_count": 7
        }
      ]
    },
    {
      "cell_type": "markdown",
      "source": [
        "# **Laços e loops** ⚡"
      ],
      "metadata": {
        "id": "OqejJgjmF70V"
      }
    },
    {
      "cell_type": "code",
      "source": [
        "idades"
      ],
      "metadata": {
        "colab": {
          "base_uri": "https://localhost:8080/"
        },
        "id": "DVfzfp4Z_RNs",
        "outputId": "84bbcfc7-f495-4955-9af2-b0f47c10d859"
      },
      "execution_count": 25,
      "outputs": [
        {
          "output_type": "execute_result",
          "data": {
            "text/plain": [
              "[20, 14, 40]"
            ]
          },
          "metadata": {},
          "execution_count": 25
        }
      ]
    },
    {
      "cell_type": "code",
      "source": [
        "# For fora da função\n",
        "\n",
        "def verifica_se_pode_dirigir(idades):\n",
        "    if idade >= 18:\n",
        "      print(f'{idade} anos de idade, TEM permissão para dirigir')\n",
        "    else:\n",
        "      print(f'{idade} anos de idade, NÃO TEM permissão para dirigir')\n",
        "\n",
        "for idade in idades: \n",
        "  verifica_se_pode_dirigir(idade)"
      ],
      "metadata": {
        "id": "T3_jcMNSF_4l",
        "colab": {
          "base_uri": "https://localhost:8080/"
        },
        "outputId": "7a3fcdb7-adaa-4e42-c035-53fea24a13fc"
      },
      "execution_count": 26,
      "outputs": [
        {
          "output_type": "stream",
          "name": "stdout",
          "text": [
            "20 anos de idade, TEM permissão para dirigir\n",
            "14 anos de idade, NÃO TEM permissão para dirigir\n",
            "40 anos de idade, TEM permissão para dirigir\n"
          ]
        }
      ]
    },
    {
      "cell_type": "code",
      "source": [
        "# For dentro da função\n",
        "\n",
        "def verifica_se_pode_dirigir(idades):\n",
        "  for idade in idades:\n",
        "    if idade >= 18:\n",
        "      print(f'{idade} anos de idade, TEM permissão para dirigir')\n",
        "    else:\n",
        "      print(f'{idade} anos de idade, NÃO TEM permissão para dirigir')\n",
        "\n",
        "verifica_se_pode_dirigir(idades)\n"
      ],
      "metadata": {
        "colab": {
          "base_uri": "https://localhost:8080/"
        },
        "id": "Bh_sgMDjgXuf",
        "outputId": "82c8dc45-6d4b-417d-8451-2fe0a556a101"
      },
      "execution_count": 27,
      "outputs": [
        {
          "output_type": "stream",
          "name": "stdout",
          "text": [
            "20 anos de idade, TEM permissão para dirigir\n",
            "14 anos de idade, NÃO TEM permissão para dirigir\n",
            "40 anos de idade, TEM permissão para dirigir\n"
          ]
        }
      ]
    },
    {
      "cell_type": "markdown",
      "source": [
        "# **Boleano** ⚡\n"
      ],
      "metadata": {
        "id": "4oxf296ClWI8"
      }
    },
    {
      "cell_type": "code",
      "source": [
        "idade = 18\n",
        "idade >= 18"
      ],
      "metadata": {
        "colab": {
          "base_uri": "https://localhost:8080/"
        },
        "id": "cKYrIVjqla9k",
        "outputId": "5cd665c4-bab1-408a-a909-0f982b687413"
      },
      "execution_count": 42,
      "outputs": [
        {
          "output_type": "execute_result",
          "data": {
            "text/plain": [
              "True"
            ]
          },
          "metadata": {},
          "execution_count": 42
        }
      ]
    },
    {
      "cell_type": "code",
      "source": [
        "idade = 15\n",
        "idade >= 18"
      ],
      "metadata": {
        "colab": {
          "base_uri": "https://localhost:8080/"
        },
        "id": "-3sBPPLxllMs",
        "outputId": "4d83bbce-3f0a-4811-9fd4-c80de8533d12"
      },
      "execution_count": 43,
      "outputs": [
        {
          "output_type": "execute_result",
          "data": {
            "text/plain": [
              "False"
            ]
          },
          "metadata": {},
          "execution_count": 43
        }
      ]
    },
    {
      "cell_type": "code",
      "source": [
        "permissoes = []\n",
        "idades = [20, 14, 40]\n",
        "\n",
        "def verifica_se_pode_dirigir(idades, permissoes):\n",
        "  for idade in idades:\n",
        "    if idade >=18:\n",
        "      permissoes.append(True)\n",
        "    else:\n",
        "      permissoes.append(False)\n",
        "\n",
        "verifica_se_pode_dirigir(idades, permissoes)\n"
      ],
      "metadata": {
        "id": "shtocDMTlq6E"
      },
      "execution_count": 44,
      "outputs": []
    },
    {
      "cell_type": "code",
      "source": [
        "permissoes\n"
      ],
      "metadata": {
        "colab": {
          "base_uri": "https://localhost:8080/"
        },
        "id": "hJPEFcFQmkJg",
        "outputId": "aa8ae69c-f746-4aff-fc8c-df3cc70cf02e"
      },
      "execution_count": 45,
      "outputs": [
        {
          "output_type": "execute_result",
          "data": {
            "text/plain": [
              "[True, False, True]"
            ]
          },
          "metadata": {},
          "execution_count": 45
        }
      ]
    },
    {
      "cell_type": "code",
      "source": [
        "for permissao in permissoes:\n",
        "  if permissao == True:\n",
        "    print('Tem permissão para digigir')\n",
        "  else:\n",
        "    print('Não tem permissão para dirigir')"
      ],
      "metadata": {
        "colab": {
          "base_uri": "https://localhost:8080/"
        },
        "id": "dNQmAjPumtWE",
        "outputId": "460cefef-202c-4af5-fa73-e7bee2fff883"
      },
      "execution_count": 46,
      "outputs": [
        {
          "output_type": "stream",
          "name": "stdout",
          "text": [
            "Tem permissão para digigir\n",
            "Não tem permissão para dirigir\n",
            "Tem permissão para digigir\n"
          ]
        }
      ]
    },
    {
      "cell_type": "code",
      "source": [
        "frase_alura = [' Digitais', 'e ', 'Negócios ', 'de ', 'Tecnologia ', 'Cursos ']\n",
        "\n",
        "#                  0          1       2          3        4             5\n",
        "#                 -6         -5     -4          -3       -2            -1\n",
        "\n",
        "# Cursos de Tecnologia e Negócios Digitais\n"
      ],
      "metadata": {
        "id": "Lp90BdaVoCR0"
      },
      "execution_count": 47,
      "outputs": []
    },
    {
      "cell_type": "code",
      "source": [
        "frase_alura[-1] + frase_alura[-3] + frase_alura[-2] + frase_alura[-5] + frase_alura[-4] + frase_alura[-6]"
      ],
      "metadata": {
        "colab": {
          "base_uri": "https://localhost:8080/",
          "height": 35
        },
        "id": "8ClFpSv-oDwM",
        "outputId": "8d526a5b-a30e-4814-e5f0-8944fe7a817a"
      },
      "execution_count": 48,
      "outputs": [
        {
          "output_type": "execute_result",
          "data": {
            "text/plain": [
              "'Cursos de Tecnologia e Negócios  Digitais'"
            ],
            "application/vnd.google.colaboratory.intrinsic+json": {
              "type": "string"
            }
          },
          "metadata": {},
          "execution_count": 48
        }
      ]
    },
    {
      "cell_type": "markdown",
      "source": [
        "# **Tipo de Listas** ⚡"
      ],
      "metadata": {
        "id": "DJShlx7N3LWP"
      }
    },
    {
      "cell_type": "code",
      "source": [
        "lista = ['Sarah', 27, True, '18']\n",
        "\n",
        "for elemento in lista:\n",
        "  print(f'O elemento {elemento} é do tipo: ',type(elemento))"
      ],
      "metadata": {
        "colab": {
          "base_uri": "https://localhost:8080/"
        },
        "id": "6LOuOrkk3Wa4",
        "outputId": "4761cca0-cfac-4e59-e9fb-233811bc6f67"
      },
      "execution_count": 52,
      "outputs": [
        {
          "output_type": "stream",
          "name": "stdout",
          "text": [
            "O elemento Sarah é do tipo:  <class 'str'>\n",
            "O elemento 27 é do tipo:  <class 'int'>\n",
            "O elemento True é do tipo:  <class 'bool'>\n",
            "O elemento 18 é do tipo:  <class 'str'>\n"
          ]
        }
      ]
    },
    {
      "cell_type": "code",
      "source": [
        "# Vamos usar a função Random \n",
        "# Vamos usar uma que gera numeros inteiros \n",
        "# Randrange (starts,stop[,step])"
      ],
      "metadata": {
        "id": "a2In5NP-4rxe"
      },
      "execution_count": null,
      "outputs": []
    },
    {
      "cell_type": "markdown",
      "source": [
        "# **Import** ⚡"
      ],
      "metadata": {
        "id": "82k9hNBA4648"
      }
    },
    {
      "cell_type": "code",
      "source": [
        "from random import randrange, seed\n"
      ],
      "metadata": {
        "id": "2sZe3K9c5B2M"
      },
      "execution_count": 60,
      "outputs": []
    },
    {
      "cell_type": "code",
      "source": [
        "seed(11)"
      ],
      "metadata": {
        "id": "tGBBpOxuAK_M"
      },
      "execution_count": 65,
      "outputs": []
    },
    {
      "cell_type": "code",
      "source": [
        "randrange(0, 11)"
      ],
      "metadata": {
        "colab": {
          "base_uri": "https://localhost:8080/"
        },
        "id": "_J8jwM4y5Jkh",
        "outputId": "5909e5bb-4b68-4a30-cc11-c01bb935002c"
      },
      "execution_count": 66,
      "outputs": [
        {
          "output_type": "execute_result",
          "data": {
            "text/plain": [
              "7"
            ]
          },
          "metadata": {},
          "execution_count": 66
        }
      ]
    },
    {
      "cell_type": "code",
      "source": [
        "notas_matematica = []\n",
        "\n",
        "for notas in range(8):\n",
        "    notas_matematica.append([randrange(0,11)])\n",
        "\n",
        "notas_matematica\n"
      ],
      "metadata": {
        "colab": {
          "base_uri": "https://localhost:8080/"
        },
        "id": "iT7f5mSY5uZK",
        "outputId": "abd95235-09c2-48e2-c750-28f6af94d1dc"
      },
      "execution_count": 67,
      "outputs": [
        {
          "output_type": "execute_result",
          "data": {
            "text/plain": [
              "[[8], [7], [7], [8], [9], [3], [2], [8]]"
            ]
          },
          "metadata": {},
          "execution_count": 67
        }
      ]
    },
    {
      "cell_type": "code",
      "source": [
        "len(notas_matematica)"
      ],
      "metadata": {
        "colab": {
          "base_uri": "https://localhost:8080/"
        },
        "id": "3oVI069KAUtc",
        "outputId": "64fe1401-2a3a-4bba-ebb2-8f99cf2836f7"
      },
      "execution_count": 68,
      "outputs": [
        {
          "output_type": "execute_result",
          "data": {
            "text/plain": [
              "8"
            ]
          },
          "metadata": {},
          "execution_count": 68
        }
      ]
    },
    {
      "cell_type": "markdown",
      "source": [
        "# **Criando um grafico -  Matplotlib** ⚡"
      ],
      "metadata": {
        "id": "emcBdP1JBjjh"
      }
    },
    {
      "cell_type": "code",
      "source": [
        "# Vamos utilizar matplotlib, e plotar os graficos aqui"
      ],
      "metadata": {
        "id": "guTPM53LBwIU"
      },
      "execution_count": null,
      "outputs": []
    },
    {
      "cell_type": "code",
      "source": [
        "import matplotlib.pyplot as plt # renomei o nome da lib para siglas menores utilizando AS"
      ],
      "metadata": {
        "id": "1NMbGXs1CIuk"
      },
      "execution_count": 69,
      "outputs": []
    },
    {
      "cell_type": "code",
      "source": [
        "x = list(range(1,9))\n",
        "y = notas_matematica\n",
        "plt.plot(x, y, marker='o') # Serve para plotar o grafico, utilizamos o 'marker=\"o\"' para fazer as bolinhas do grafico\n",
        "plt.title('Notas de Matemática') # para incluir o título \n",
        "plt.xlabel('Provas') # legendas dos eixos \n",
        "plt.ylabel('Notas')  # legendas dos eixos \n",
        "plt.show() # exibe de fato como o grafico irá ficar\n"
      ],
      "metadata": {
        "colab": {
          "base_uri": "https://localhost:8080/",
          "height": 295
        },
        "id": "0q8GabU2CVa1",
        "outputId": "f0f3d218-f61a-46cd-8c1b-9869423c6a29"
      },
      "execution_count": 78,
      "outputs": [
        {
          "output_type": "display_data",
          "data": {
            "text/plain": [
              "<Figure size 432x288 with 1 Axes>"
            ],
            "image/png": "[encoded data removed]"
          },
          "metadata": {
            "needs_background": "light"
          }
        }
      ]
    },
    {
      "cell_type": "code",
      "source": [],
      "metadata": {
        "id": "KXknuA8tCx91"
      },
      "execution_count": 72,
      "outputs": []
    }
  ]
}